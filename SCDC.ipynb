{
 "cells": [
  {
   "cell_type": "markdown",
   "metadata": {},
   "source": [
    "# preprocessing"
   ]
  },
  {
   "cell_type": "code",
   "execution_count": 169,
   "metadata": {},
   "outputs": [],
   "source": [
    "import pandas as pd"
   ]
  },
  {
   "cell_type": "code",
   "execution_count": 170,
   "metadata": {
    "scrolled": true
   },
   "outputs": [
    {
     "name": "stdout",
     "output_type": "stream",
     "text": [
      "(452038, 14)\n"
     ]
    },
    {
     "data": {
      "text/html": [
       "<div>\n",
       "<style scoped>\n",
       "    .dataframe tbody tr th:only-of-type {\n",
       "        vertical-align: middle;\n",
       "    }\n",
       "\n",
       "    .dataframe tbody tr th {\n",
       "        vertical-align: top;\n",
       "    }\n",
       "\n",
       "    .dataframe thead th {\n",
       "        text-align: right;\n",
       "    }\n",
       "</style>\n",
       "<table border=\"1\" class=\"dataframe\">\n",
       "  <thead>\n",
       "    <tr style=\"text-align: right;\">\n",
       "      <th></th>\n",
       "      <th>YM</th>\n",
       "      <th>Category</th>\n",
       "      <th>성별구분</th>\n",
       "      <th>연령대</th>\n",
       "      <th>기혼스코어</th>\n",
       "      <th>유아자녀스코어</th>\n",
       "      <th>초등학생자녀스코어</th>\n",
       "      <th>중고생자녀스코어</th>\n",
       "      <th>대학생자녀스코어</th>\n",
       "      <th>전업주부스코어</th>\n",
       "      <th>자녀스코어</th>\n",
       "      <th>YM_year</th>\n",
       "      <th>YM_month</th>\n",
       "      <th>year-month</th>\n",
       "    </tr>\n",
       "  </thead>\n",
       "  <tbody>\n",
       "    <tr>\n",
       "      <th>0</th>\n",
       "      <td>202005</td>\n",
       "      <td>할인점</td>\n",
       "      <td>0</td>\n",
       "      <td>5</td>\n",
       "      <td>2</td>\n",
       "      <td>0</td>\n",
       "      <td>2</td>\n",
       "      <td>1</td>\n",
       "      <td>0</td>\n",
       "      <td>0</td>\n",
       "      <td>3</td>\n",
       "      <td>2020</td>\n",
       "      <td>5</td>\n",
       "      <td>2020-5</td>\n",
       "    </tr>\n",
       "    <tr>\n",
       "      <th>1</th>\n",
       "      <td>202005</td>\n",
       "      <td>취미</td>\n",
       "      <td>0</td>\n",
       "      <td>1</td>\n",
       "      <td>2</td>\n",
       "      <td>0</td>\n",
       "      <td>1</td>\n",
       "      <td>1</td>\n",
       "      <td>0</td>\n",
       "      <td>0</td>\n",
       "      <td>2</td>\n",
       "      <td>2020</td>\n",
       "      <td>5</td>\n",
       "      <td>2020-5</td>\n",
       "    </tr>\n",
       "    <tr>\n",
       "      <th>2</th>\n",
       "      <td>202005</td>\n",
       "      <td>오픈마켓/소셜</td>\n",
       "      <td>1</td>\n",
       "      <td>3</td>\n",
       "      <td>1</td>\n",
       "      <td>1</td>\n",
       "      <td>1</td>\n",
       "      <td>1</td>\n",
       "      <td>0</td>\n",
       "      <td>1</td>\n",
       "      <td>3</td>\n",
       "      <td>2020</td>\n",
       "      <td>5</td>\n",
       "      <td>2020-5</td>\n",
       "    </tr>\n",
       "    <tr>\n",
       "      <th>3</th>\n",
       "      <td>202005</td>\n",
       "      <td>뷰티</td>\n",
       "      <td>0</td>\n",
       "      <td>3</td>\n",
       "      <td>1</td>\n",
       "      <td>1</td>\n",
       "      <td>1</td>\n",
       "      <td>1</td>\n",
       "      <td>0</td>\n",
       "      <td>0</td>\n",
       "      <td>3</td>\n",
       "      <td>2020</td>\n",
       "      <td>5</td>\n",
       "      <td>2020-5</td>\n",
       "    </tr>\n",
       "    <tr>\n",
       "      <th>4</th>\n",
       "      <td>202005</td>\n",
       "      <td>오픈마켓/소셜</td>\n",
       "      <td>0</td>\n",
       "      <td>6</td>\n",
       "      <td>2</td>\n",
       "      <td>0</td>\n",
       "      <td>1</td>\n",
       "      <td>1</td>\n",
       "      <td>1</td>\n",
       "      <td>0</td>\n",
       "      <td>3</td>\n",
       "      <td>2020</td>\n",
       "      <td>5</td>\n",
       "      <td>2020-5</td>\n",
       "    </tr>\n",
       "  </tbody>\n",
       "</table>\n",
       "</div>"
      ],
      "text/plain": [
       "       YM Category  성별구분  연령대  기혼스코어  유아자녀스코어  초등학생자녀스코어  중고생자녀스코어  대학생자녀스코어  \\\n",
       "0  202005      할인점     0    5      2        0          2         1         0   \n",
       "1  202005       취미     0    1      2        0          1         1         0   \n",
       "2  202005  오픈마켓/소셜     1    3      1        1          1         1         0   \n",
       "3  202005       뷰티     0    3      1        1          1         1         0   \n",
       "4  202005  오픈마켓/소셜     0    6      2        0          1         1         1   \n",
       "\n",
       "   전업주부스코어  자녀스코어  YM_year  YM_month year-month  \n",
       "0        0      3     2020         5     2020-5  \n",
       "1        0      2     2020         5     2020-5  \n",
       "2        1      3     2020         5     2020-5  \n",
       "3        0      3     2020         5     2020-5  \n",
       "4        0      3     2020         5     2020-5  "
      ]
     },
     "execution_count": 170,
     "metadata": {},
     "output_type": "execute_result"
    }
   ],
   "source": [
    "track = pd.read_csv('samsung/Track2.csv', index_col = False, encoding='cp949')\n",
    "\n",
    "track['유아자녀스코어'] = track['유아자녀스코어'].replace('high',2).replace('mid',1).replace('low', 0)\n",
    "track['초등학생자녀스코어'] = track['초등학생자녀스코어'].replace('high',2).replace('mid',1).replace('low', 0)\n",
    "track['중고생자녀스코어'] = track['중고생자녀스코어'].replace('high',2).replace('mid',1).replace('low', 0)\n",
    "track['대학생자녀스코어'] = track['대학생자녀스코어'].replace('high',2).replace('mid',1).replace('low', 0)\n",
    "track['자녀스코어'] = track['유아자녀스코어'] + track['초등학생자녀스코어'] + track['중고생자녀스코어'] + track['대학생자녀스코어']\n",
    "\n",
    "track['기혼스코어'] = track['기혼스코어'].replace('high',2).replace('mid',1).replace('low', 0)\n",
    "\n",
    "track['전업주부스코어'] = track['전업주부스코어'].replace('high',2).replace('mid',1).replace('low', 0)\n",
    "track['연령대'] = track['연령대'].replace('C',2).replace('B',1).replace('A', 0).replace('D', 3).replace('E', 4).replace('F', 5).replace('G', 6).replace('H', 7)\n",
    "\n",
    "track['YM_year']  = track['YM']\n",
    "track['YM_year'] = track['YM_year'].replace(202005,2020).replace(202004,2020).replace(201905,2019).replace(201904,2019)\n",
    "\n",
    "track['YM_month'] = track['YM']\n",
    "track['YM_month'] = track['YM_month'].replace(202005,5).replace(202004,4).replace(201905,5).replace(201904,4)\n",
    "\n",
    "track['year-month'] = track['YM_year'].astype(str)  + '-' + track['YM_month'].astype(str)\n",
    "\n",
    "\n",
    "print(track.shape)\n",
    "track.head()"
   ]
  },
  {
   "cell_type": "code",
   "execution_count": 171,
   "metadata": {
    "scrolled": false
   },
   "outputs": [],
   "source": [
    "high_count = track[((track['Category'] == '할인점') | (track['Category'] == '오픈마켓/소셜') | (track['Category'] == '디저트') |(track['Category'] == '전문몰'))]\n",
    "low_count = track[((track['Category'] == '취미') | (track['Category'] == '뷰티') | (track['Category'] == '종합몰'))]\n",
    "extrem_low = track[((track['Category'] == '항공/여행사') | (track['Category'] == '호텔/숙박') | (track['Category'] == '면세점'))]"
   ]
  },
  {
   "cell_type": "markdown",
   "metadata": {},
   "source": [
    "# EDA"
   ]
  },
  {
   "cell_type": "code",
   "execution_count": 172,
   "metadata": {},
   "outputs": [],
   "source": [
    "import seaborn as sns"
   ]
  },
  {
   "cell_type": "code",
   "execution_count": 173,
   "metadata": {},
   "outputs": [],
   "source": [
    "import matplotlib.pyplot as plt\n",
    "\n",
    "plt.rc('font', family='NanumGothic')"
   ]
  },
  {
   "cell_type": "code",
   "execution_count": 175,
   "metadata": {},
   "outputs": [
    {
     "data": {
      "text/plain": [
       "<matplotlib.axes._subplots.AxesSubplot at 0x2f080a0edf0>"
      ]
     },
     "execution_count": 175,
     "metadata": {},
     "output_type": "execute_result"
    },
    {
     "data": {
      "image/png": "[encoded data removed]",
      "text/plain": [
       "<Figure size 1296x360 with 3 Axes>"
      ]
     },
     "metadata": {
      "needs_background": "light"
     },
     "output_type": "display_data"
    }
   ],
   "source": [
    "figure, (ax1,ax2,ax3) = plt.subplots(nrows = 1, ncols = 3)\n",
    "\n",
    "figure.set_size_inches(18,5)\n",
    "ax1.set_title(\"high_count\")\n",
    "ax2.set_title(\"low_count\")\n",
    "ax3.set_title(\"extreme_low\")\n",
    "\n",
    "sns.countplot(data = high_count, x = 'Category', ax = ax1)\n",
    "sns.countplot(data = low_count, x = 'Category', ax = ax2)\n",
    "sns.countplot(data = extrem_low, x = 'Category', ax = ax3)"
   ]
  },
  {
   "cell_type": "code",
   "execution_count": 176,
   "metadata": {},
   "outputs": [
    {
     "data": {
      "text/plain": [
       "<matplotlib.axes._subplots.AxesSubplot at 0x2f082c45580>"
      ]
     },
     "execution_count": 176,
     "metadata": {},
     "output_type": "execute_result"
    },
    {
     "data": {
      "image/png": "[encoded data removed]",
      "text/plain": [
       "<Figure size 1296x360 with 3 Axes>"
      ]
     },
     "metadata": {
      "needs_background": "light"
     },
     "output_type": "display_data"
    }
   ],
   "source": [
    "figure, (ax1,ax2,ax3) = plt.subplots(nrows = 1, ncols = 3)\n",
    "\n",
    "figure.set_size_inches(18,5)\n",
    "ax1.set_title(\"high_count\")\n",
    "ax2.set_title(\"low_count\")\n",
    "ax3.set_title(\"extreme_low\")\n",
    "\n",
    "sns.countplot(data = high_count, x = 'Category', hue = 'YM_year', ax = ax1)\n",
    "sns.countplot(data = low_count, x = 'Category', hue = 'YM_year', ax = ax2)\n",
    "sns.countplot(data = extrem_low, x = 'Category', hue = 'YM_year', ax = ax3)\n",
    "\n",
    "# 온라인 업종은 19년도에 비해 카드 사용량이 증가하거나 감소 폭이 적다.\n",
    "# 오프라인 업종의 경우 모든 업종에서 카드 사용량이 감소\n",
    "# 디저트 업종의 경우, 다른 오프라인 업종에 비해 감소폭이 적다는 점이 특징이다."
   ]
  },
  {
   "cell_type": "code",
   "execution_count": 177,
   "metadata": {
    "scrolled": false
   },
   "outputs": [
    {
     "data": {
      "text/plain": [
       "<matplotlib.axes._subplots.AxesSubplot at 0x2f082f94820>"
      ]
     },
     "execution_count": 177,
     "metadata": {},
     "output_type": "execute_result"
    },
    {
     "data": {
      "image/png": "[encoded data removed]",
      "text/plain": [
       "<Figure size 1440x432 with 3 Axes>"
      ]
     },
     "metadata": {
      "needs_background": "light"
     },
     "output_type": "display_data"
    }
   ],
   "source": [
    "figure, (ax1,ax2,ax3) = plt.subplots(nrows = 1, ncols = 3)\n",
    "\n",
    "figure.set_size_inches(20,6)\n",
    "ax1.set_title(\"high_count\")\n",
    "ax2.set_title(\"low_count\")\n",
    "ax3.set_title(\"extreme_low\")\n",
    "\n",
    "sns.countplot(data = high_count, x = 'Category', hue = 'year-month', ax = ax1)\n",
    "sns.countplot(data = low_count, x = 'Category', hue = 'year-month', ax = ax2)\n",
    "sns.countplot(data = extrem_low, x = 'Category', hue = 'year-month', ax = ax3)\n",
    "\n",
    "# 종합몰을 제외한 모든 업종에서 20년 4월에 비해 20년 5월에 카드 사용량이 증가\n",
    "# 종합몰에서만 감소한 이유는 코로나 확산세가 수그러듬 / 정부의 재난지원금의 효과"
   ]
  },
  {
   "cell_type": "markdown",
   "metadata": {},
   "source": [
    "## 할인점"
   ]
  },
  {
   "cell_type": "code",
   "execution_count": 181,
   "metadata": {},
   "outputs": [
    {
     "name": "stdout",
     "output_type": "stream",
     "text": [
      "(84636, 14)\n"
     ]
    },
    {
     "data": {
      "text/html": [
       "<div>\n",
       "<style scoped>\n",
       "    .dataframe tbody tr th:only-of-type {\n",
       "        vertical-align: middle;\n",
       "    }\n",
       "\n",
       "    .dataframe tbody tr th {\n",
       "        vertical-align: top;\n",
       "    }\n",
       "\n",
       "    .dataframe thead th {\n",
       "        text-align: right;\n",
       "    }\n",
       "</style>\n",
       "<table border=\"1\" class=\"dataframe\">\n",
       "  <thead>\n",
       "    <tr style=\"text-align: right;\">\n",
       "      <th></th>\n",
       "      <th>YM</th>\n",
       "      <th>Category</th>\n",
       "      <th>성별구분</th>\n",
       "      <th>연령대</th>\n",
       "      <th>기혼스코어</th>\n",
       "      <th>유아자녀스코어</th>\n",
       "      <th>초등학생자녀스코어</th>\n",
       "      <th>중고생자녀스코어</th>\n",
       "      <th>대학생자녀스코어</th>\n",
       "      <th>전업주부스코어</th>\n",
       "      <th>자녀스코어</th>\n",
       "      <th>YM_year</th>\n",
       "      <th>YM_month</th>\n",
       "      <th>year-month</th>\n",
       "    </tr>\n",
       "  </thead>\n",
       "  <tbody>\n",
       "    <tr>\n",
       "      <th>0</th>\n",
       "      <td>202005</td>\n",
       "      <td>할인점</td>\n",
       "      <td>0</td>\n",
       "      <td>5</td>\n",
       "      <td>2</td>\n",
       "      <td>0</td>\n",
       "      <td>2</td>\n",
       "      <td>1</td>\n",
       "      <td>0</td>\n",
       "      <td>0</td>\n",
       "      <td>3</td>\n",
       "      <td>2020</td>\n",
       "      <td>5</td>\n",
       "      <td>2020-5</td>\n",
       "    </tr>\n",
       "    <tr>\n",
       "      <th>21</th>\n",
       "      <td>202005</td>\n",
       "      <td>할인점</td>\n",
       "      <td>1</td>\n",
       "      <td>1</td>\n",
       "      <td>2</td>\n",
       "      <td>0</td>\n",
       "      <td>2</td>\n",
       "      <td>1</td>\n",
       "      <td>1</td>\n",
       "      <td>1</td>\n",
       "      <td>4</td>\n",
       "      <td>2020</td>\n",
       "      <td>5</td>\n",
       "      <td>2020-5</td>\n",
       "    </tr>\n",
       "    <tr>\n",
       "      <th>37</th>\n",
       "      <td>202005</td>\n",
       "      <td>할인점</td>\n",
       "      <td>0</td>\n",
       "      <td>5</td>\n",
       "      <td>2</td>\n",
       "      <td>0</td>\n",
       "      <td>1</td>\n",
       "      <td>1</td>\n",
       "      <td>0</td>\n",
       "      <td>0</td>\n",
       "      <td>2</td>\n",
       "      <td>2020</td>\n",
       "      <td>5</td>\n",
       "      <td>2020-5</td>\n",
       "    </tr>\n",
       "    <tr>\n",
       "      <th>42</th>\n",
       "      <td>202005</td>\n",
       "      <td>할인점</td>\n",
       "      <td>0</td>\n",
       "      <td>5</td>\n",
       "      <td>2</td>\n",
       "      <td>0</td>\n",
       "      <td>1</td>\n",
       "      <td>1</td>\n",
       "      <td>0</td>\n",
       "      <td>0</td>\n",
       "      <td>2</td>\n",
       "      <td>2020</td>\n",
       "      <td>5</td>\n",
       "      <td>2020-5</td>\n",
       "    </tr>\n",
       "    <tr>\n",
       "      <th>51</th>\n",
       "      <td>202005</td>\n",
       "      <td>할인점</td>\n",
       "      <td>1</td>\n",
       "      <td>0</td>\n",
       "      <td>2</td>\n",
       "      <td>1</td>\n",
       "      <td>0</td>\n",
       "      <td>2</td>\n",
       "      <td>0</td>\n",
       "      <td>1</td>\n",
       "      <td>3</td>\n",
       "      <td>2020</td>\n",
       "      <td>5</td>\n",
       "      <td>2020-5</td>\n",
       "    </tr>\n",
       "  </tbody>\n",
       "</table>\n",
       "</div>"
      ],
      "text/plain": [
       "        YM Category  성별구분  연령대  기혼스코어  유아자녀스코어  초등학생자녀스코어  중고생자녀스코어  대학생자녀스코어  \\\n",
       "0   202005      할인점     0    5      2        0          2         1         0   \n",
       "21  202005      할인점     1    1      2        0          2         1         1   \n",
       "37  202005      할인점     0    5      2        0          1         1         0   \n",
       "42  202005      할인점     0    5      2        0          1         1         0   \n",
       "51  202005      할인점     1    0      2        1          0         2         0   \n",
       "\n",
       "    전업주부스코어  자녀스코어  YM_year  YM_month year-month  \n",
       "0         0      3     2020         5     2020-5  \n",
       "21        1      4     2020         5     2020-5  \n",
       "37        0      2     2020         5     2020-5  \n",
       "42        0      2     2020         5     2020-5  \n",
       "51        1      3     2020         5     2020-5  "
      ]
     },
     "execution_count": 181,
     "metadata": {},
     "output_type": "execute_result"
    }
   ],
   "source": [
    "할인점 = track[track['Category'] == '할인점']\n",
    "\n",
    "print(할인점.shape)\n",
    "할인점.head()"
   ]
  },
  {
   "cell_type": "code",
   "execution_count": 190,
   "metadata": {},
   "outputs": [
    {
     "data": {
      "text/plain": [
       "<matplotlib.axes._subplots.AxesSubplot at 0x2f09f919190>"
      ]
     },
     "execution_count": 190,
     "metadata": {},
     "output_type": "execute_result"
    },
    {
     "data": {
      "image/png": "[encoded data removed]",
      "text/plain": [
       "<Figure size 1296x576 with 8 Axes>"
      ]
     },
     "metadata": {
      "needs_background": "light"
     },
     "output_type": "display_data"
    }
   ],
   "source": [
    "figure, ((ax1,ax2,ax3,ax4),(ax5,ax6,ax7,ax8)) = plt.subplots(nrows = 2, ncols = 4)\n",
    "\n",
    "figure.set_size_inches(18,8)\n",
    "\n",
    "\n",
    "\n",
    "\n",
    "sns.countplot(data = 할인점 , x = '성별구분', hue = 'YM_year', ax = ax1)\n",
    "sns.countplot(data = 할인점 , x = '연령대', hue = 'YM_year', ax = ax2)\n",
    "sns.countplot(data = 할인점 , x = '기혼스코어', hue = 'YM_year', ax = ax3)\n",
    "sns.countplot(data = 할인점 , x = '유아자녀스코어', hue = 'YM_year', ax = ax5)\n",
    "sns.countplot(data = 할인점 , x = '초등학생자녀스코어', hue = 'YM_year', ax = ax6)\n",
    "sns.countplot(data = 할인점 , x = '중고생자녀스코어', hue = 'YM_year', ax = ax7)\n",
    "sns.countplot(data = 할인점 , x = '대학생자녀스코어', hue = 'YM_year', ax = ax8)\n",
    "sns.countplot(data = 할인점 , x = '전업주부스코어', hue = 'YM_year', ax = ax4)\n"
   ]
  },
  {
   "cell_type": "code",
   "execution_count": 198,
   "metadata": {},
   "outputs": [
    {
     "data": {
      "text/html": [
       "<div>\n",
       "<style scoped>\n",
       "    .dataframe tbody tr th:only-of-type {\n",
       "        vertical-align: middle;\n",
       "    }\n",
       "\n",
       "    .dataframe tbody tr th {\n",
       "        vertical-align: top;\n",
       "    }\n",
       "\n",
       "    .dataframe thead th {\n",
       "        text-align: right;\n",
       "    }\n",
       "</style>\n",
       "<table border=\"1\" class=\"dataframe\">\n",
       "  <thead>\n",
       "    <tr style=\"text-align: right;\">\n",
       "      <th></th>\n",
       "      <th>연령대</th>\n",
       "      <th>0</th>\n",
       "      <th>1</th>\n",
       "      <th>2</th>\n",
       "      <th>3</th>\n",
       "      <th>4</th>\n",
       "      <th>5</th>\n",
       "      <th>6</th>\n",
       "      <th>7</th>\n",
       "      <th>All</th>\n",
       "    </tr>\n",
       "    <tr>\n",
       "      <th>Category</th>\n",
       "      <th>YM_year</th>\n",
       "      <th></th>\n",
       "      <th></th>\n",
       "      <th></th>\n",
       "      <th></th>\n",
       "      <th></th>\n",
       "      <th></th>\n",
       "      <th></th>\n",
       "      <th></th>\n",
       "      <th></th>\n",
       "    </tr>\n",
       "  </thead>\n",
       "  <tbody>\n",
       "    <tr>\n",
       "      <th rowspan=\"2\" valign=\"top\">할인점</th>\n",
       "      <th>2019</th>\n",
       "      <td>0.093</td>\n",
       "      <td>0.065</td>\n",
       "      <td>0.057</td>\n",
       "      <td>0.094</td>\n",
       "      <td>0.041</td>\n",
       "      <td>0.098</td>\n",
       "      <td>0.079</td>\n",
       "      <td>0.087</td>\n",
       "      <td>0.614</td>\n",
       "    </tr>\n",
       "    <tr>\n",
       "      <th>2020</th>\n",
       "      <td>0.058</td>\n",
       "      <td>0.040</td>\n",
       "      <td>0.036</td>\n",
       "      <td>0.054</td>\n",
       "      <td>0.026</td>\n",
       "      <td>0.063</td>\n",
       "      <td>0.052</td>\n",
       "      <td>0.058</td>\n",
       "      <td>0.386</td>\n",
       "    </tr>\n",
       "    <tr>\n",
       "      <th>All</th>\n",
       "      <th></th>\n",
       "      <td>0.151</td>\n",
       "      <td>0.105</td>\n",
       "      <td>0.093</td>\n",
       "      <td>0.148</td>\n",
       "      <td>0.067</td>\n",
       "      <td>0.161</td>\n",
       "      <td>0.131</td>\n",
       "      <td>0.145</td>\n",
       "      <td>1.000</td>\n",
       "    </tr>\n",
       "  </tbody>\n",
       "</table>\n",
       "</div>"
      ],
      "text/plain": [
       "연령대                   0      1      2      3      4      5      6      7  \\\n",
       "Category YM_year                                                           \n",
       "할인점      2019     0.093  0.065  0.057  0.094  0.041  0.098  0.079  0.087   \n",
       "         2020     0.058  0.040  0.036  0.054  0.026  0.063  0.052  0.058   \n",
       "All               0.151  0.105  0.093  0.148  0.067  0.161  0.131  0.145   \n",
       "\n",
       "연령대                 All  \n",
       "Category YM_year         \n",
       "할인점      2019     0.614  \n",
       "         2020     0.386  \n",
       "All               1.000  "
      ]
     },
     "execution_count": 198,
     "metadata": {},
     "output_type": "execute_result"
    }
   ],
   "source": [
    "pd.crosstab([할인점['Category'],할인점['YM_year']], 할인점['연령대']).round(3)"
   ]
  },
  {
   "cell_type": "code",
   "execution_count": null,
   "metadata": {},
   "outputs": [],
   "source": []
  },
  {
   "cell_type": "code",
   "execution_count": null,
   "metadata": {},
   "outputs": [],
   "source": []
  },
  {
   "cell_type": "code",
   "execution_count": null,
   "metadata": {},
   "outputs": [],
   "source": []
  },
  {
   "cell_type": "code",
   "execution_count": null,
   "metadata": {},
   "outputs": [],
   "source": []
  },
  {
   "cell_type": "code",
   "execution_count": null,
   "metadata": {},
   "outputs": [],
   "source": []
  },
  {
   "cell_type": "code",
   "execution_count": null,
   "metadata": {},
   "outputs": [],
   "source": []
  },
  {
   "cell_type": "code",
   "execution_count": null,
   "metadata": {},
   "outputs": [],
   "source": []
  },
  {
   "cell_type": "code",
   "execution_count": null,
   "metadata": {},
   "outputs": [],
   "source": []
  },
  {
   "cell_type": "code",
   "execution_count": null,
   "metadata": {},
   "outputs": [],
   "source": []
  },
  {
   "cell_type": "code",
   "execution_count": null,
   "metadata": {},
   "outputs": [],
   "source": []
  },
  {
   "cell_type": "code",
   "execution_count": null,
   "metadata": {},
   "outputs": [],
   "source": []
  },
  {
   "cell_type": "code",
   "execution_count": null,
   "metadata": {},
   "outputs": [],
   "source": []
  },
  {
   "cell_type": "code",
   "execution_count": null,
   "metadata": {},
   "outputs": [],
   "source": []
  },
  {
   "cell_type": "code",
   "execution_count": null,
   "metadata": {},
   "outputs": [],
   "source": []
  },
  {
   "cell_type": "code",
   "execution_count": null,
   "metadata": {},
   "outputs": [],
   "source": []
  },
  {
   "cell_type": "code",
   "execution_count": null,
   "metadata": {},
   "outputs": [],
   "source": []
  },
  {
   "cell_type": "code",
   "execution_count": null,
   "metadata": {},
   "outputs": [],
   "source": []
  },
  {
   "cell_type": "markdown",
   "metadata": {},
   "source": [
    "## HIGH_COUNT"
   ]
  },
  {
   "cell_type": "code",
   "execution_count": null,
   "metadata": {},
   "outputs": [],
   "source": [
    "sns.countplot(data = hi_count, x = 'Category', hue = '성별구분')"
   ]
  },
  {
   "cell_type": "code",
   "execution_count": null,
   "metadata": {
    "scrolled": true
   },
   "outputs": [],
   "source": [
    "plt.figure(figsize = (20,5))\n",
    "\n",
    "sns.countplot(data = hi_count, x = 'Category', hue = 'YM_year')"
   ]
  },
  {
   "cell_type": "code",
   "execution_count": null,
   "metadata": {},
   "outputs": [],
   "source": [
    "plt.figure(figsize = (20,5))\n",
    "\n",
    "sns.countplot(data = hi_count, x = 'Category', hue = 'YM_month')"
   ]
  },
  {
   "cell_type": "code",
   "execution_count": null,
   "metadata": {},
   "outputs": [],
   "source": [
    "plt.figure(figsize = (20,5))\n",
    "\n",
    "sns.countplot(data = hi_count, x = 'Category', hue = 'year-month')"
   ]
  },
  {
   "cell_type": "code",
   "execution_count": null,
   "metadata": {},
   "outputs": [],
   "source": [
    "plt.figure(figsize=(15,5))\n",
    "\n",
    "sns.countplot(data = hi_count, x = 'Category', hue = '기혼스코어')"
   ]
  },
  {
   "cell_type": "code",
   "execution_count": null,
   "metadata": {
    "scrolled": true
   },
   "outputs": [],
   "source": [
    "plt.figure(figsize=(15,5))\n",
    "\n",
    "sns.countplot(data = hi_count, x = 'Category', hue = '유아자녀스코어')"
   ]
  },
  {
   "cell_type": "code",
   "execution_count": null,
   "metadata": {},
   "outputs": [],
   "source": [
    "plt.figure(figsize=(15,5))\n",
    "\n",
    "sns.countplot(data = hi_count, x = 'Category', hue = '초등학생자녀스코어')"
   ]
  },
  {
   "cell_type": "code",
   "execution_count": null,
   "metadata": {},
   "outputs": [],
   "source": [
    "plt.figure(figsize=(15,5))\n",
    "\n",
    "sns.countplot(data = hi_count, x = 'Category', hue = '중고생자녀스코어')"
   ]
  },
  {
   "cell_type": "code",
   "execution_count": null,
   "metadata": {},
   "outputs": [],
   "source": [
    "plt.figure(figsize=(15,5))\n",
    "\n",
    "sns.countplot(data = hi_count, x = 'Category', hue = '대학생자녀스코어')"
   ]
  },
  {
   "cell_type": "code",
   "execution_count": null,
   "metadata": {},
   "outputs": [],
   "source": [
    "plt.figure(figsize=(15,5))\n",
    "\n",
    "sns.countplot(data = hi_count, x = 'Category', hue = '전업주부스코어')"
   ]
  },
  {
   "cell_type": "code",
   "execution_count": null,
   "metadata": {
    "scrolled": true
   },
   "outputs": [],
   "source": [
    "plt.figure(figsize=(15,5))\n",
    "\n",
    "sns.countplot(data = hi_count, x = 'Category', hue = '연령대')"
   ]
  },
  {
   "cell_type": "code",
   "execution_count": null,
   "metadata": {},
   "outputs": [],
   "source": [
    "plt.figure(figsize=(15,5))\n",
    "\n",
    "sns.countplot(data = track, x = '기혼스코어', hue = '유아자녀스코어')"
   ]
  },
  {
   "cell_type": "code",
   "execution_count": null,
   "metadata": {},
   "outputs": [],
   "source": [
    "plt.figure(figsize=(15,5))\n",
    "\n",
    "sns.countplot(data = track, x = '기혼스코어', hue = '초등학생자녀스코어')"
   ]
  },
  {
   "cell_type": "code",
   "execution_count": null,
   "metadata": {},
   "outputs": [],
   "source": [
    "plt.figure(figsize=(15,5))\n",
    "\n",
    "sns.countplot(data = track, x = '기혼스코어', hue = '중고생자녀스코어')"
   ]
  },
  {
   "cell_type": "code",
   "execution_count": null,
   "metadata": {
    "scrolled": true
   },
   "outputs": [],
   "source": [
    "plt.figure(figsize=(15,5))\n",
    "\n",
    "sns.countplot(data = track, x = '기혼스코어', hue = '대학생자녀스코어')"
   ]
  },
  {
   "cell_type": "code",
   "execution_count": null,
   "metadata": {},
   "outputs": [],
   "source": [
    "plt.figure(figsize=(15,5))\n",
    "\n",
    "sns.countplot(data = track, x = '기혼스코어', hue = '전업주부스코어')"
   ]
  },
  {
   "cell_type": "markdown",
   "metadata": {},
   "source": [
    "## LOW_COUNT"
   ]
  },
  {
   "cell_type": "code",
   "execution_count": null,
   "metadata": {},
   "outputs": [],
   "source": [
    "plt.figure(figsize = (20,5))\n",
    "\n",
    "sns.countplot(data = lo_count, x = 'Category')"
   ]
  },
  {
   "cell_type": "code",
   "execution_count": null,
   "metadata": {},
   "outputs": [],
   "source": [
    "plt.figure(figsize = (20,5))\n",
    "\n",
    "sns.countplot(data = lo_count, x = 'Category', hue = '성별구분')"
   ]
  },
  {
   "cell_type": "code",
   "execution_count": null,
   "metadata": {},
   "outputs": [],
   "source": [
    "plt.figure(figsize = (20,5))\n",
    "\n",
    "sns.countplot(data = lo_count, x = 'Category', hue = '기혼스코어')"
   ]
  },
  {
   "cell_type": "code",
   "execution_count": null,
   "metadata": {},
   "outputs": [],
   "source": [
    "plt.figure(figsize = (20,5))\n",
    "\n",
    "sns.countplot(data = lo_count, x = 'Category', hue = '연령대')"
   ]
  },
  {
   "cell_type": "code",
   "execution_count": null,
   "metadata": {},
   "outputs": [],
   "source": [
    "plt.figure(figsize = (20,5))\n",
    "\n",
    "sns.countplot(data = lo_count, x = 'Category', hue = 'YM_year')"
   ]
  },
  {
   "cell_type": "code",
   "execution_count": null,
   "metadata": {},
   "outputs": [],
   "source": [
    "plt.figure(figsize = (20,5))\n",
    "\n",
    "sns.countplot(data = lo_count, x = 'Category', hue = 'YM_month')"
   ]
  },
  {
   "cell_type": "code",
   "execution_count": null,
   "metadata": {},
   "outputs": [],
   "source": [
    "plt.figure(figsize = (20,5))\n",
    "\n",
    "sns.countplot(data = lo_count, x = 'Category', hue = 'year-month')"
   ]
  },
  {
   "cell_type": "code",
   "execution_count": null,
   "metadata": {},
   "outputs": [],
   "source": []
  },
  {
   "cell_type": "markdown",
   "metadata": {},
   "source": [
    "## EXTREME_LOW"
   ]
  },
  {
   "cell_type": "code",
   "execution_count": null,
   "metadata": {},
   "outputs": [],
   "source": [
    "sns.countplot(data = ex_low, x = 'Category')"
   ]
  },
  {
   "cell_type": "code",
   "execution_count": null,
   "metadata": {},
   "outputs": [],
   "source": [
    "sns.countplot(data = ex_low, x = 'Category', hue = '성별구분')"
   ]
  },
  {
   "cell_type": "code",
   "execution_count": null,
   "metadata": {},
   "outputs": [],
   "source": [
    "plt.figure(figsize = (15,5))\n",
    "\n",
    "sns.countplot(data = ex_low, x = 'Category', hue = '기혼스코어')"
   ]
  },
  {
   "cell_type": "code",
   "execution_count": null,
   "metadata": {},
   "outputs": [],
   "source": [
    "sns.countplot(data = ex_low, x = 'Category', hue = 'YM_year')"
   ]
  },
  {
   "cell_type": "code",
   "execution_count": null,
   "metadata": {},
   "outputs": [],
   "source": [
    "sns.countplot(data = ex_low, x = 'Category', hue = 'YM_month')"
   ]
  },
  {
   "cell_type": "code",
   "execution_count": null,
   "metadata": {},
   "outputs": [],
   "source": [
    "sns.countplot(data = ex_low, x = 'Category', hue = 'year-month')"
   ]
  },
  {
   "cell_type": "code",
   "execution_count": null,
   "metadata": {},
   "outputs": [],
   "source": []
  },
  {
   "cell_type": "code",
   "execution_count": null,
   "metadata": {},
   "outputs": [],
   "source": []
  },
  {
   "cell_type": "code",
   "execution_count": null,
   "metadata": {},
   "outputs": [],
   "source": []
  },
  {
   "cell_type": "code",
   "execution_count": null,
   "metadata": {},
   "outputs": [],
   "source": []
  },
  {
   "cell_type": "code",
   "execution_count": null,
   "metadata": {},
   "outputs": [],
   "source": []
  },
  {
   "cell_type": "code",
   "execution_count": null,
   "metadata": {},
   "outputs": [],
   "source": []
  },
  {
   "cell_type": "code",
   "execution_count": null,
   "metadata": {},
   "outputs": [],
   "source": []
  },
  {
   "cell_type": "code",
   "execution_count": null,
   "metadata": {},
   "outputs": [],
   "source": []
  },
  {
   "cell_type": "code",
   "execution_count": null,
   "metadata": {},
   "outputs": [],
   "source": []
  },
  {
   "cell_type": "code",
   "execution_count": null,
   "metadata": {},
   "outputs": [],
   "source": []
  },
  {
   "cell_type": "code",
   "execution_count": null,
   "metadata": {},
   "outputs": [],
   "source": []
  },
  {
   "cell_type": "code",
   "execution_count": null,
   "metadata": {},
   "outputs": [],
   "source": []
  }
 ],
 "metadata": {
  "kernelspec": {
   "display_name": "Python 3",
   "language": "python",
   "name": "python3"
  },
  "language_info": {
   "codemirror_mode": {
    "name": "ipython",
    "version": 3
   },
   "file_extension": ".py",
   "mimetype": "text/x-python",
   "name": "python",
   "nbconvert_exporter": "python",
   "pygments_lexer": "ipython3",
   "version": "3.8.3"
  }
 },
 "nbformat": 4,
 "nbformat_minor": 4
}
